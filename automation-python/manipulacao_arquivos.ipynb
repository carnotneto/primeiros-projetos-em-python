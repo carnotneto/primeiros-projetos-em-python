{
 "cells": [
  {
   "cell_type": "code",
   "execution_count": 14,
   "id": "37df096b",
   "metadata": {},
   "outputs": [],
   "source": [
    "#Exercício 1: Manipulação de Arquivos\n",
    "#Crie um programa Python que leia um arquivo de texto e conte o número de linhas, palavras e caracteres no arquivo.\n",
    "\n",
    "\n",
    "def contador_de_palavras(arquivo):\n",
    "    try:\n",
    "        with open (arquivo, 'r', encoding='utf-8') as texto:\n",
    "            conteudo = texto.read()\n",
    "            linhas = conteudo.split('\\n')\n",
    "            palavras = conteudo.split()\n",
    "            n_linhas = len(linhas)\n",
    "            n_palavras = len(palavras)\n",
    "            n_caracteres = len(conteudo)\n",
    "    \n",
    "            return n_linhas, n_palavras, n_caracteres\n",
    "    \n",
    "    except FileNotFoundError:\n",
    "        return None  "
   ]
  },
  {
   "cell_type": "code",
   "execution_count": 17,
   "id": "3798c8f6",
   "metadata": {},
   "outputs": [
    {
     "name": "stdout",
     "output_type": "stream",
     "text": [
      "Digite o caminho do arquivo (sem aspas)C:\\Users\\carno\\Desktop\\Invernáculo.txt\n",
      "Número de linhas: 17\n",
      "Número de palavras: 71\n",
      "Número de caracteres: 381\n"
     ]
    }
   ],
   "source": [
    "arquivo = input('Digite o caminho do arquivo (sem aspas)')\n",
    "resultado = contador_de_palavras(arquivo)\n",
    "\n",
    "if resultado:\n",
    "    n_linhas, n_palavras, n_caracteres = resultado\n",
    "    print(f\"Número de linhas: {n_linhas}\")\n",
    "    print(f\"Número de palavras: {n_palavras}\")\n",
    "    print(f\"Número de caracteres: {n_caracteres}\")\n",
    "else:\n",
    "    print(\"Arquivo não encontrado.\")"
   ]
  },
  {
   "cell_type": "code",
   "execution_count": null,
   "id": "2dbd1a39",
   "metadata": {},
   "outputs": [],
   "source": []
  }
 ],
 "metadata": {
  "kernelspec": {
   "display_name": "Python 3 (ipykernel)",
   "language": "python",
   "name": "python3"
  },
  "language_info": {
   "codemirror_mode": {
    "name": "ipython",
    "version": 3
   },
   "file_extension": ".py",
   "mimetype": "text/x-python",
   "name": "python",
   "nbconvert_exporter": "python",
   "pygments_lexer": "ipython3",
   "version": "3.9.13"
  }
 },
 "nbformat": 4,
 "nbformat_minor": 5
}
