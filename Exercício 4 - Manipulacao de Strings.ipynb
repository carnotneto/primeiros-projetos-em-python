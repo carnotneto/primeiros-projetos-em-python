{
 "cells": [
  {
   "cell_type": "code",
   "execution_count": 23,
   "id": "3da3e393",
   "metadata": {},
   "outputs": [
    {
     "name": "stdout",
     "output_type": "stream",
     "text": [
      "Escreva uma palavra: bola\n",
      "Não é um palíndromo.\n"
     ]
    }
   ],
   "source": [
    "#Exercício 4: Manipulação de Strings\n",
    "\n",
    "#Escreva um programa Python que receba uma string como entrada e verifique se ela é um palíndromo (ou seja, lê a mesma coisa de trás para frente).\n",
    "\n",
    "def palindromo(palavra):\n",
    "    palavra = palavra.upper()  # Converte a palavra para letras minúsculas\n",
    "    if palavra == palavra[::-1]:\n",
    "        print('É um palíndromo!')\n",
    "    else:\n",
    "        print('Não é um palíndromo.')\n",
    "\n",
    "palavra = input('Escreva uma palavra: ')\n",
    "\n",
    "palindromo(palavra)\n"
   ]
  },
  {
   "cell_type": "code",
   "execution_count": null,
   "id": "f982679b",
   "metadata": {},
   "outputs": [],
   "source": []
  }
 ],
 "metadata": {
  "kernelspec": {
   "display_name": "Python 3 (ipykernel)",
   "language": "python",
   "name": "python3"
  },
  "language_info": {
   "codemirror_mode": {
    "name": "ipython",
    "version": 3
   },
   "file_extension": ".py",
   "mimetype": "text/x-python",
   "name": "python",
   "nbconvert_exporter": "python",
   "pygments_lexer": "ipython3",
   "version": "3.9.13"
  }
 },
 "nbformat": 4,
 "nbformat_minor": 5
}
